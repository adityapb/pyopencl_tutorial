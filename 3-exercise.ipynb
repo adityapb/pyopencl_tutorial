{
 "cells": [
  {
   "cell_type": "markdown",
   "metadata": {},
   "source": [
    "## PyOpenCL\n",
    "\n",
    "### Choosing a context"
   ]
  },
  {
   "cell_type": "code",
   "execution_count": 61,
   "metadata": {},
   "outputs": [],
   "source": [
    "import pyopencl as cl\n",
    "import pyopencl.array\n",
    "import pyopencl.clrandom\n",
    "import numpy as np"
   ]
  },
  {
   "cell_type": "code",
   "execution_count": 62,
   "metadata": {},
   "outputs": [],
   "source": [
    "platforms = cl.get_platforms()"
   ]
  },
  {
   "cell_type": "code",
   "execution_count": 63,
   "metadata": {},
   "outputs": [
    {
     "name": "stdout",
     "output_type": "stream",
     "text": [
      "[<pyopencl.Platform 'Apple' at 0x7fff0000>]\n"
     ]
    }
   ],
   "source": [
    "print(platforms)"
   ]
  },
  {
   "cell_type": "code",
   "execution_count": 64,
   "metadata": {},
   "outputs": [],
   "source": [
    "devices = platforms[0].get_devices()"
   ]
  },
  {
   "cell_type": "code",
   "execution_count": 65,
   "metadata": {},
   "outputs": [
    {
     "name": "stdout",
     "output_type": "stream",
     "text": [
      "[<pyopencl.Device 'Intel(R) Core(TM) i5-4278U CPU @ 2.60GHz' on 'Apple' at 0xffffffff>, <pyopencl.Device 'Iris' on 'Apple' at 0x1024500>]\n"
     ]
    }
   ],
   "source": [
    "print(devices)"
   ]
  },
  {
   "cell_type": "code",
   "execution_count": 66,
   "metadata": {},
   "outputs": [],
   "source": [
    "ctx = cl.Context([devices[1]])"
   ]
  },
  {
   "cell_type": "code",
   "execution_count": 67,
   "metadata": {},
   "outputs": [],
   "source": [
    "queue = cl.CommandQueue(ctx)"
   ]
  },
  {
   "cell_type": "markdown",
   "metadata": {},
   "source": [
    "## Exercise\n",
    "\n",
    "Write a program to multiply two matrices a_np and b_np.  "
   ]
  },
  {
   "cell_type": "code",
   "execution_count": 84,
   "metadata": {},
   "outputs": [],
   "source": [
    "n = 500\n",
    "a_np = np.random.rand(n, n).astype(np.float32)\n",
    "b_np = np.random.rand(n, n).astype(np.float32)"
   ]
  },
  {
   "cell_type": "code",
   "execution_count": 85,
   "metadata": {},
   "outputs": [],
   "source": [
    "a_g = cl.array.to_device(queue, a_np)\n",
    "b_g = cl.array.to_device(queue, b_np)\n",
    "c_g = cl.array.empty_like(a_g)"
   ]
  },
  {
   "cell_type": "code",
   "execution_count": 86,
   "metadata": {},
   "outputs": [
    {
     "data": {
      "text/plain": [
       "array([[ 123.11193085,  117.68209839,  120.83584595, ...,  122.38522339,\n",
       "         121.21781158,  123.27674866],\n",
       "       [ 125.59140015,  120.10753632,  118.77536011, ...,  126.03534698,\n",
       "         130.44271851,  121.36652374],\n",
       "       [ 127.65638733,  119.8468399 ,  125.34146118, ...,  133.79394531,\n",
       "         125.28974915,  127.01585388],\n",
       "       ..., \n",
       "       [ 122.87688446,  117.1942749 ,  118.72805786, ...,  129.37211609,\n",
       "         124.08924866,  120.81111145],\n",
       "       [ 131.5605011 ,  122.01300049,  128.28913879, ...,  136.44451904,\n",
       "         131.8117981 ,  131.94125366],\n",
       "       [ 134.52944946,  120.95022583,  124.51434326, ...,  133.33253479,\n",
       "         126.85139465,  124.67602539]], dtype=float32)"
      ]
     },
     "execution_count": 86,
     "metadata": {},
     "output_type": "execute_result"
    }
   ],
   "source": [
    "np.matmul(a_np, b_np)"
   ]
  },
  {
   "cell_type": "code",
   "execution_count": 91,
   "metadata": {},
   "outputs": [],
   "source": []
  },
  {
   "cell_type": "code",
   "execution_count": 93,
   "metadata": {},
   "outputs": [
    {
     "data": {
      "text/plain": [
       "<pyopencl.cffi_cl.Event at 0x119028390>"
      ]
     },
     "execution_count": 93,
     "metadata": {},
     "output_type": "execute_result"
    }
   ],
   "source": []
  },
  {
   "cell_type": "code",
   "execution_count": 94,
   "metadata": {},
   "outputs": [
    {
     "name": "stdout",
     "output_type": "stream",
     "text": [
      "[[ 123.11198425  120.10748291  125.34150696 ...,  129.37214661  131.8117981\n",
      "   124.67601776]\n",
      " [ 123.11198425  120.10748291  125.34150696 ...,  129.37214661  131.8117981\n",
      "   124.67601776]\n",
      " [ 123.11198425  120.10748291  125.34150696 ...,  129.37214661  131.8117981\n",
      "   124.67601776]\n",
      " ..., \n",
      " [ 123.11198425  120.10748291  125.34150696 ...,  129.37214661  131.8117981\n",
      "   124.67601776]\n",
      " [ 123.11198425  120.10748291  125.34150696 ...,  129.37214661  131.8117981\n",
      "   124.67601776]\n",
      " [ 123.11198425  120.10748291  125.34150696 ...,  129.37214661  131.8117981\n",
      "   124.67601776]]\n"
     ]
    }
   ],
   "source": []
  },
  {
   "cell_type": "code",
   "execution_count": null,
   "metadata": {},
   "outputs": [],
   "source": []
  },
  {
   "cell_type": "code",
   "execution_count": null,
   "metadata": {},
   "outputs": [],
   "source": []
  }
 ],
 "metadata": {
  "kernelspec": {
   "display_name": "Python 2",
   "language": "python",
   "name": "python2"
  },
  "language_info": {
   "codemirror_mode": {
    "name": "ipython",
    "version": 2
   },
   "file_extension": ".py",
   "mimetype": "text/x-python",
   "name": "python",
   "nbconvert_exporter": "python",
   "pygments_lexer": "ipython2",
   "version": "2.7.13"
  }
 },
 "nbformat": 4,
 "nbformat_minor": 2
}
