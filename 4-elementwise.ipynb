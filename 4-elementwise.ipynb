{
 "cells": [
  {
   "cell_type": "markdown",
   "metadata": {},
   "source": [
    "# PyOpenCL"
   ]
  },
  {
   "cell_type": "code",
   "execution_count": 1,
   "metadata": {},
   "outputs": [],
   "source": [
    "import pyopencl as cl\n",
    "import pyopencl.array\n",
    "import numpy as np"
   ]
  },
  {
   "cell_type": "code",
   "execution_count": 2,
   "metadata": {},
   "outputs": [],
   "source": [
    "ctx = cl.create_some_context()\n",
    "queue = cl.CommandQueue(ctx)"
   ]
  },
  {
   "cell_type": "markdown",
   "metadata": {},
   "source": [
    "## Elementwise Kernel\n",
    "\n",
    "A generalized kernel generator for elementwise operations.  \n",
    "No need to worry about work group sizes.  \n",
    "Similar to C. Minimal OpenCL stuff!"
   ]
  },
  {
   "cell_type": "markdown",
   "metadata": {},
   "source": [
    "### The square problem"
   ]
  },
  {
   "cell_type": "code",
   "execution_count": 3,
   "metadata": {},
   "outputs": [],
   "source": [
    "from pyopencl.elementwise import ElementwiseKernel"
   ]
  },
  {
   "cell_type": "code",
   "execution_count": 4,
   "metadata": {},
   "outputs": [],
   "source": [
    "a_g = cl.array.arange(queue, 0, 10, 1, dtype=np.float32)"
   ]
  },
  {
   "cell_type": "code",
   "execution_count": 5,
   "metadata": {},
   "outputs": [],
   "source": [
    "src = \"\"\"\n",
    "    float a_i = a[i];\n",
    "    a[i] = a_i * a_i;\n",
    "\"\"\"\n",
    "\n",
    "square = ElementwiseKernel(ctx, \"float* a\", src)"
   ]
  },
  {
   "cell_type": "code",
   "execution_count": 6,
   "metadata": {},
   "outputs": [
    {
     "data": {
      "text/plain": [
       "<pyopencl.cffi_cl.Event at 0x1152945d0>"
      ]
     },
     "execution_count": 6,
     "metadata": {},
     "output_type": "execute_result"
    }
   ],
   "source": [
    "square(a_g)"
   ]
  },
  {
   "cell_type": "code",
   "execution_count": 7,
   "metadata": {},
   "outputs": [
    {
     "name": "stdout",
     "output_type": "stream",
     "text": [
      "[  0.   1.   4.   9.  16.  25.  36.  49.  64.  81.]\n"
     ]
    }
   ],
   "source": [
    "print(a_g)"
   ]
  },
  {
   "cell_type": "markdown",
   "metadata": {},
   "source": [
    "Each operation on an array has a kernel call.  \n",
    "For example,"
   ]
  },
  {
   "cell_type": "code",
   "execution_count": 32,
   "metadata": {},
   "outputs": [],
   "source": [
    "a_g = 1 + cl.array.zeros(queue, 10**7, dtype=np.float32)\n",
    "b_g = 1 + cl.array.zeros(queue, 10**7, dtype=np.float32)"
   ]
  },
  {
   "cell_type": "code",
   "execution_count": 33,
   "metadata": {},
   "outputs": [
    {
     "name": "stdout",
     "output_type": "stream",
     "text": [
      "[ 5.  5.  5. ...,  5.  5.  5.]\n",
      "Time taken: 2.237150\n"
     ]
    }
   ],
   "source": [
    "import time\n",
    "\n",
    "start = time.time()\n",
    "\n",
    "for i in range(10):\n",
    "    c_g = 2 * a_g + 3 * b_g\n",
    "\n",
    "queue.finish()\n",
    "\n",
    "end = time.time()\n",
    "\n",
    "print(c_g)\n",
    "print(\"Time taken: %f\" % (end - start))"
   ]
  },
  {
   "cell_type": "code",
   "execution_count": 35,
   "metadata": {},
   "outputs": [],
   "source": [
    "lincomb = ElementwiseKernel(ctx, \"float a, float* x, float b, float* y, float* res\",\n",
    "                            \"res[i] = a * x[i] + b * y[i];\")"
   ]
  },
  {
   "cell_type": "code",
   "execution_count": 36,
   "metadata": {},
   "outputs": [
    {
     "name": "stdout",
     "output_type": "stream",
     "text": [
      "[ 5.  5.  5. ...,  5.  5.  5.]\n",
      "Time taken: 0.950778\n"
     ]
    }
   ],
   "source": [
    "start = time.time()\n",
    "\n",
    "c_g = cl.array.empty(queue, 10**7, dtype=np.float32)\n",
    "for i in range(10):\n",
    "    lincomb(2, a_g, 3, b_g, c_g)\n",
    "\n",
    "queue.finish()\n",
    "\n",
    "end = time.time()\n",
    "\n",
    "print(c_g)\n",
    "print(\"Time taken: %f\" % (end - start))"
   ]
  },
  {
   "cell_type": "code",
   "execution_count": null,
   "metadata": {},
   "outputs": [],
   "source": []
  }
 ],
 "metadata": {
  "kernelspec": {
   "display_name": "Python 2",
   "language": "python",
   "name": "python2"
  },
  "language_info": {
   "codemirror_mode": {
    "name": "ipython",
    "version": 2
   },
   "file_extension": ".py",
   "mimetype": "text/x-python",
   "name": "python",
   "nbconvert_exporter": "python",
   "pygments_lexer": "ipython2",
   "version": "2.7.13"
  }
 },
 "nbformat": 4,
 "nbformat_minor": 2
}
